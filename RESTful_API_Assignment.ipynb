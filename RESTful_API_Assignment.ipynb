{
  "nbformat": 4,
  "nbformat_minor": 0,
  "metadata": {
    "colab": {
      "provenance": []
    },
    "kernelspec": {
      "name": "python3",
      "display_name": "Python 3"
    },
    "language_info": {
      "name": "python"
    }
  },
  "cells": [
    {
      "cell_type": "markdown",
      "source": [
        "1. How do you create a basic Flask application?"
      ],
      "metadata": {
        "id": "oVr9C3QmCs4j"
      }
    },
    {
      "cell_type": "code",
      "execution_count": null,
      "metadata": {
        "colab": {
          "base_uri": "https://localhost:8080/"
        },
        "id": "HSEuoGpcCXeo",
        "outputId": "fdfc9183-178c-491a-8f94-d90f9a1cd233"
      },
      "outputs": [
        {
          "output_type": "stream",
          "name": "stdout",
          "text": [
            " * Serving Flask app '__main__'\n",
            " * Debug mode: on\n"
          ]
        },
        {
          "output_type": "stream",
          "name": "stderr",
          "text": [
            "INFO:werkzeug:\u001b[31m\u001b[1mWARNING: This is a development server. Do not use it in a production deployment. Use a production WSGI server instead.\u001b[0m\n",
            " * Running on http://127.0.0.1:5000\n",
            "INFO:werkzeug:\u001b[33mPress CTRL+C to quit\u001b[0m\n",
            "INFO:werkzeug: * Restarting with stat\n"
          ]
        }
      ],
      "source": [
        "from flask import Flask\n",
        "\n",
        "app = Flask(__name__)\n",
        "\n",
        "@app.route('/')\n",
        "def home():\n",
        "    return \"Hello, Flask!\"\n",
        "\n",
        "if __name__ == '__main__':\n",
        "    app.run(debug=True)"
      ]
    },
    {
      "cell_type": "markdown",
      "source": [
        "2. How do you serve static files like images or CSS in Flask4"
      ],
      "metadata": {
        "id": "J9Kg_vxqCxWY"
      }
    },
    {
      "cell_type": "code",
      "source": [
        "<link rel=\"stylesheet\" href=\"{{ url_for('static', filename='style.css') }}\">\n",
        "<img src=\"{{ url_for('static', filename='images/logo.png') }}\">"
      ],
      "metadata": {
        "id": "4iaAIevRCizK"
      },
      "execution_count": null,
      "outputs": []
    },
    {
      "cell_type": "markdown",
      "source": [
        "3.How do you define different routes with different HTTP methods in Flask"
      ],
      "metadata": {
        "id": "jVmYJq_UC5kA"
      }
    },
    {
      "cell_type": "code",
      "source": [
        "@app.route('/submit', methods=['GET', 'POST'])\n",
        "def submit():\n",
        "    if request.method == 'POST':\n",
        "        return 'Form Submitted'\n",
        "    return 'Submit Form'"
      ],
      "metadata": {
        "id": "xa4YHcbDC1E8"
      },
      "execution_count": null,
      "outputs": []
    },
    {
      "cell_type": "markdown",
      "source": [
        "4. How do you render HTML templates in Flask."
      ],
      "metadata": {
        "id": "v7aZig1MDA_4"
      }
    },
    {
      "cell_type": "code",
      "source": [
        "from flask import render_template\n",
        "\n",
        "@app.route('/')\n",
        "def home():\n",
        "    return render_template('index.html')"
      ],
      "metadata": {
        "id": "vRgoja6HDJzO"
      },
      "execution_count": null,
      "outputs": []
    },
    {
      "cell_type": "markdown",
      "source": [
        "5.How can you generate URLs for routes in Flask using url_for?"
      ],
      "metadata": {
        "id": "viLFec2zDPVj"
      }
    },
    {
      "cell_type": "code",
      "source": [
        "@app.route('/about')\n",
        "def about():\n",
        "    return 'About Page'\n",
        "\n",
        "# In HTML or Python:\n",
        "url_for('about')  # Output: '/about'"
      ],
      "metadata": {
        "id": "RalhlHr3DTLz"
      },
      "execution_count": null,
      "outputs": []
    },
    {
      "cell_type": "markdown",
      "source": [
        "6.How do you handle forms in Flask?"
      ],
      "metadata": {
        "id": "ug4ojCH4DWLa"
      }
    },
    {
      "cell_type": "code",
      "source": [
        "from flask import request\n",
        "\n",
        "@app.route('/form', methods=['GET', 'POST'])\n",
        "def form():\n",
        "    if request.method == 'POST':\n",
        "        name = request.form['name']\n",
        "        return f'Hello, {name}'\n",
        "    return render_template('form.html')"
      ],
      "metadata": {
        "id": "jsJunLSSDZ0J"
      },
      "execution_count": null,
      "outputs": []
    },
    {
      "cell_type": "markdown",
      "source": [
        "7.How can you validate form data in Flask?"
      ],
      "metadata": {
        "id": "IZUzYEmuDcij"
      }
    },
    {
      "cell_type": "code",
      "source": [
        "if not request.form['email']:\n",
        "    return 'Email is required'"
      ],
      "metadata": {
        "id": "oep8w_VrDfaF"
      },
      "execution_count": null,
      "outputs": []
    },
    {
      "cell_type": "markdown",
      "source": [
        "8. How do you manage sessions in Flask?"
      ],
      "metadata": {
        "id": "Q0w0LD1TDodl"
      }
    },
    {
      "cell_type": "code",
      "source": [
        "from flask import session\n",
        "\n",
        "app.secret_key = 'your_secret_key'\n",
        "\n",
        "@app.route('/login', methods=['POST'])\n",
        "def login():\n",
        "    session['user'] = request.form['username']\n",
        "    return 'Logged in'\n",
        "\n",
        "@app.route('/logout')\n",
        "def logout():\n",
        "    session.pop('user', None)\n",
        "    return 'Logged out'"
      ],
      "metadata": {
        "id": "dsRbhKKqDtyn"
      },
      "execution_count": null,
      "outputs": []
    },
    {
      "cell_type": "markdown",
      "source": [
        "9. How do you redirect to a different route in Flask?"
      ],
      "metadata": {
        "id": "W2dHgTDCDu0u"
      }
    },
    {
      "cell_type": "code",
      "source": [
        "from flask import redirect, url_for\n",
        "\n",
        "@app.route('/go-home')\n",
        "def go_home():\n",
        "    return redirect(url_for('home'))"
      ],
      "metadata": {
        "id": "07vriwjaD0Dx"
      },
      "execution_count": null,
      "outputs": []
    },
    {
      "cell_type": "markdown",
      "source": [
        "10.How do you handle errors in Flask (e.g., 404)?"
      ],
      "metadata": {
        "id": "v6-p_Bi-D2hi"
      }
    },
    {
      "cell_type": "code",
      "source": [
        "@app.errorhandler(404)\n",
        "def page_not_found(e):\n",
        "    return render_template('404.html'), 404"
      ],
      "metadata": {
        "id": "lGvWRkiJD6t8"
      },
      "execution_count": null,
      "outputs": []
    },
    {
      "cell_type": "markdown",
      "source": [
        "11.How do you structure a Flask app using Blueprints?"
      ],
      "metadata": {
        "id": "qaMbi_5ND9X6"
      }
    },
    {
      "cell_type": "code",
      "source": [
        "project/\n",
        "│\n",
        "├── app/\n",
        "│   ├── __init__.py\n",
        "│   ├── routes.py\n",
        "│   └── views/\n",
        "│       └── __init__.py"
      ],
      "metadata": {
        "id": "dCUX2MhaEAPv"
      },
      "execution_count": null,
      "outputs": []
    },
    {
      "cell_type": "markdown",
      "source": [
        "12.How do you define a custom Jinja filter in Flask?"
      ],
      "metadata": {
        "id": "vVCMvQoHEB9l"
      }
    },
    {
      "cell_type": "code",
      "source": [
        "@app.template_filter('reverse')\n",
        "def reverse_filter(s):\n",
        "    return s[::-1]\n",
        "\n",
        "# In template:\n",
        "{{ 'Flask' | reverse }}  <!-- Outputs: ksalF -->"
      ],
      "metadata": {
        "id": "hNXGcqDUEIb0"
      },
      "execution_count": null,
      "outputs": []
    },
    {
      "cell_type": "code",
      "source": [],
      "metadata": {
        "id": "e2HVdDLpEI4c"
      },
      "execution_count": null,
      "outputs": []
    },
    {
      "cell_type": "markdown",
      "source": [
        "13.How can you redirect with query parameters in Flask?"
      ],
      "metadata": {
        "id": "tGlM6b-MEMFB"
      }
    },
    {
      "cell_type": "code",
      "source": [
        "from flask import redirect, url_for\n",
        "\n",
        "@app.route('/search')\n",
        "def search():\n",
        "    return redirect(url_for('results', q='flask'))\n",
        "\n",
        "@app.route('/results')\n",
        "def results():\n",
        "    query = request.args.get('q')\n",
        "    return f\"Results for {query}\""
      ],
      "metadata": {
        "id": "ZubTa_wPEO7i"
      },
      "execution_count": null,
      "outputs": []
    },
    {
      "cell_type": "markdown",
      "source": [
        "14.How do you return JSON responses in Flask?"
      ],
      "metadata": {
        "id": "PfRdJbuKERev"
      }
    },
    {
      "cell_type": "code",
      "source": [
        "from flask import jsonify\n",
        "\n",
        "@app.route('/api/data')\n",
        "def api_data():\n",
        "    return jsonify({'name': 'Flask', 'version': '2.x'})"
      ],
      "metadata": {
        "id": "vEvKsY-DEUgs"
      },
      "execution_count": null,
      "outputs": []
    },
    {
      "cell_type": "markdown",
      "source": [
        "15.How do you capture URL parameters in Flask?"
      ],
      "metadata": {
        "id": "0EfjxTp0EXPo"
      }
    },
    {
      "cell_type": "code",
      "source": [
        "@app.route('/user/<username>')\n",
        "def show_user(username):\n",
        "    return f'Hello, {username}'"
      ],
      "metadata": {
        "id": "YQqU3k-REaAY"
      },
      "execution_count": null,
      "outputs": []
    }
  ]
}